{
 "cells": [
  {
   "cell_type": "code",
   "execution_count": 1,
   "id": "be62bc32-6123-4c09-b8f4-07794170665e",
   "metadata": {
    "tags": []
   },
   "outputs": [
    {
     "data": {
      "text/html": [
       "\n",
       "            <div>\n",
       "                <p><b>SparkSession - in-memory</b></p>\n",
       "                \n",
       "        <div>\n",
       "            <p><b>SparkContext</b></p>\n",
       "\n",
       "            <p><a href=\"http://DESKTOP-2UP3U4Q:4040\">Spark UI</a></p>\n",
       "\n",
       "            <dl>\n",
       "              <dt>Version</dt>\n",
       "                <dd><code>v3.4.0</code></dd>\n",
       "              <dt>Master</dt>\n",
       "                <dd><code>local</code></dd>\n",
       "              <dt>AppName</dt>\n",
       "                <dd><code>My app</code></dd>\n",
       "            </dl>\n",
       "        </div>\n",
       "        \n",
       "            </div>\n",
       "        "
      ],
      "text/plain": [
       "<pyspark.sql.session.SparkSession at 0x1fe847f5580>"
      ]
     },
     "execution_count": 1,
     "metadata": {},
     "output_type": "execute_result"
    }
   ],
   "source": [
    "import os\n",
    "import pyspark\n",
    "\n",
    "# Start Spark session\n",
    "conf = pyspark.SparkConf()\n",
    "conf.setMaster(\"local\").setAppName(\"My app\")\n",
    "\n",
    "sc = pyspark.SparkContext(conf=conf)\n",
    "spark = pyspark.sql.SparkSession(sc)\n",
    "spark"
   ]
  },
  {
   "cell_type": "code",
   "execution_count": 2,
   "id": "c681f504-ac5a-49f0-979b-0c5e76f08072",
   "metadata": {
    "tags": []
   },
   "outputs": [],
   "source": [
    "from pyspark.sql.functions import col, sum, round, when, struct, collect_list"
   ]
  },
  {
   "cell_type": "code",
   "execution_count": 3,
   "id": "c77a941d-af01-44ba-ba92-9d171f717cae",
   "metadata": {
    "tags": []
   },
   "outputs": [],
   "source": [
    "# Load fishing fleets dataset\n",
    "fleets = spark \\\n",
    "                .read \\\n",
    "                .option(\"inferSchema\", \"true\") \\\n",
    "                .option(\"header\", \"true\") \\\n",
    "                .csv(\"data/fishing_fleet.csv\")"
   ]
  },
  {
   "cell_type": "code",
   "execution_count": 4,
   "id": "88920294-f31a-4436-89bd-aea71ca60070",
   "metadata": {
    "tags": []
   },
   "outputs": [
    {
     "data": {
      "text/plain": [
       "[Row(COUNTRY0='AUS', Country1='Australia', FLEET2='TOT_VESSEL', Fleet3='Total Vessels', MEASURE4='NUM', Measure5='Number of vessels', YEAR6=2010, Year7=2010, Unit Code='NBR', Unit='Number', PowerCode Code=0, PowerCode='Units', Reference Period Code=None, Reference Period=None, Value=318.0, Flag Codes=None, Flags=None),\n",
       " Row(COUNTRY0='AUS', Country1='Australia', FLEET2='TOT_VESSEL', Fleet3='Total Vessels', MEASURE4='NUM', Measure5='Number of vessels', YEAR6=2011, Year7=2011, Unit Code='NBR', Unit='Number', PowerCode Code=0, PowerCode='Units', Reference Period Code=None, Reference Period=None, Value=325.0, Flag Codes=None, Flags=None),\n",
       " Row(COUNTRY0='AUS', Country1='Australia', FLEET2='TOT_VESSEL', Fleet3='Total Vessels', MEASURE4='NUM', Measure5='Number of vessels', YEAR6=2012, Year7=2012, Unit Code='NBR', Unit='Number', PowerCode Code=0, PowerCode='Units', Reference Period Code=None, Reference Period=None, Value=318.0, Flag Codes=None, Flags=None),\n",
       " Row(COUNTRY0='AUS', Country1='Australia', FLEET2='TOT_VESSEL', Fleet3='Total Vessels', MEASURE4='NUM', Measure5='Number of vessels', YEAR6=2013, Year7=2013, Unit Code='NBR', Unit='Number', PowerCode Code=0, PowerCode='Units', Reference Period Code=None, Reference Period=None, Value=306.0, Flag Codes=None, Flags=None),\n",
       " Row(COUNTRY0='AUS', Country1='Australia', FLEET2='TOT_VESSEL', Fleet3='Total Vessels', MEASURE4='NUM', Measure5='Number of vessels', YEAR6=2014, Year7=2014, Unit Code='NBR', Unit='Number', PowerCode Code=0, PowerCode='Units', Reference Period Code=None, Reference Period=None, Value=309.0, Flag Codes=None, Flags=None)]"
      ]
     },
     "execution_count": 4,
     "metadata": {},
     "output_type": "execute_result"
    }
   ],
   "source": [
    "fleets.head(5)"
   ]
  },
  {
   "cell_type": "code",
   "execution_count": 5,
   "id": "7863c8dd-cda2-40c3-8d13-67f09a7543b7",
   "metadata": {
    "tags": []
   },
   "outputs": [
    {
     "name": "stdout",
     "output_type": "stream",
     "text": [
      "root\n",
      " |-- COUNTRY0: string (nullable = true)\n",
      " |-- Country1: string (nullable = true)\n",
      " |-- FLEET2: string (nullable = true)\n",
      " |-- Fleet3: string (nullable = true)\n",
      " |-- MEASURE4: string (nullable = true)\n",
      " |-- Measure5: string (nullable = true)\n",
      " |-- YEAR6: integer (nullable = true)\n",
      " |-- Year7: integer (nullable = true)\n",
      " |-- Unit Code: string (nullable = true)\n",
      " |-- Unit: string (nullable = true)\n",
      " |-- PowerCode Code: integer (nullable = true)\n",
      " |-- PowerCode: string (nullable = true)\n",
      " |-- Reference Period Code: string (nullable = true)\n",
      " |-- Reference Period: string (nullable = true)\n",
      " |-- Value: double (nullable = true)\n",
      " |-- Flag Codes: string (nullable = true)\n",
      " |-- Flags: string (nullable = true)\n",
      "\n"
     ]
    }
   ],
   "source": [
    "fleets.printSchema()"
   ]
  },
  {
   "cell_type": "code",
   "execution_count": 6,
   "id": "99439549-8232-40ad-bd12-16b70cb1c115",
   "metadata": {
    "tags": []
   },
   "outputs": [],
   "source": [
    "# Drop unnecessary columns\n",
    "fleets = fleets.drop(\"Reference Period Code\", \\\n",
    "                           \"Reference Period\", \\\n",
    "                           \"Flag Codes\", \\\n",
    "                           \"Flags\", \\\n",
    "                           \"PowerCode Code\", \\\n",
    "                           \"PowerCode\", \\\n",
    "                           \"YEAR6\")"
   ]
  },
  {
   "cell_type": "code",
   "execution_count": 7,
   "id": "304fefdb-75fd-4d93-90d6-935a75026f73",
   "metadata": {
    "tags": []
   },
   "outputs": [],
   "source": [
    "# Rename columns\n",
    "fleets = fleets.withColumnRenamed(\"COUNTRY0\", \"Country Code\") \\\n",
    "                .withColumnRenamed(\"Country1\", \"Country\") \\\n",
    "                .withColumnRenamed(\"FLEET2\", \"Fleet Code\") \\\n",
    "                .withColumnRenamed(\"Fleet3\", \"Fleet\") \\\n",
    "                .withColumnRenamed(\"MEASURE4\", \"Measure Code\") \\\n",
    "                .withColumnRenamed(\"Measure5\", \"Measure\") \\\n",
    "                .withColumnRenamed(\"Year7\", \"Year\")"
   ]
  },
  {
   "cell_type": "code",
   "execution_count": 8,
   "id": "713278ec-9972-457d-b299-d29dfa70a4b5",
   "metadata": {
    "tags": []
   },
   "outputs": [
    {
     "name": "stdout",
     "output_type": "stream",
     "text": [
      "root\n",
      " |-- Country Code: string (nullable = true)\n",
      " |-- Country: string (nullable = true)\n",
      " |-- Fleet Code: string (nullable = true)\n",
      " |-- Fleet: string (nullable = true)\n",
      " |-- Measure Code: string (nullable = true)\n",
      " |-- Measure: string (nullable = true)\n",
      " |-- Year: integer (nullable = true)\n",
      " |-- Unit Code: string (nullable = true)\n",
      " |-- Unit: string (nullable = true)\n",
      " |-- Value: double (nullable = true)\n",
      "\n"
     ]
    }
   ],
   "source": [
    "fleets.printSchema()"
   ]
  },
  {
   "cell_type": "code",
   "execution_count": 9,
   "id": "6c717ec0-c520-4bbe-bd03-b0a8b79f972c",
   "metadata": {
    "tags": []
   },
   "outputs": [
    {
     "name": "stdout",
     "output_type": "stream",
     "text": [
      "+----------+-------------+\n",
      "|Fleet Code|        Fleet|\n",
      "+----------+-------------+\n",
      "|   LOA_0_6|      0-5.9 m|\n",
      "| LOA_12_18|    12-17.9 m|\n",
      "| LOA_18_24|    18-23.9 m|\n",
      "| LOA_24_30|    24-29.9 m|\n",
      "| LOA_30_36|    30-35.9 m|\n",
      "| LOA_36_45|    36-44.9 m|\n",
      "| LOA_45_60|    45-59.9 m|\n",
      "|  LOA_6_12|     6-11.9 m|\n",
      "| LOA_60_75|    60-74.9 m|\n",
      "|    LOA_75|75 m and over|\n",
      "|   LOA_UNK|  LOA unknown|\n",
      "|TOT_VESSEL|Total Vessels|\n",
      "+----------+-------------+\n",
      "\n"
     ]
    }
   ],
   "source": [
    "# Retrieve fleet types and their respective codes\n",
    "fleet_types = fleets.select(\"Fleet Code\", \"Fleet\").distinct().sort(\"Fleet\")\n",
    "fleet_types.show()"
   ]
  },
  {
   "cell_type": "code",
   "execution_count": 10,
   "id": "88f4dedc-614d-4289-8020-edc7bdc6e76a",
   "metadata": {
    "tags": []
   },
   "outputs": [
    {
     "name": "stdout",
     "output_type": "stream",
     "text": [
      "+---------+------+\n",
      "|Unit Code|  Unit|\n",
      "+---------+------+\n",
      "|      NBR|Number|\n",
      "|    TONNE|Tonnes|\n",
      "+---------+------+\n",
      "\n"
     ]
    }
   ],
   "source": [
    "# Show units and their respective codes\n",
    "fleets.select(\"Unit Code\", \"Unit\").distinct().sort(\"Unit\").show()"
   ]
  },
  {
   "cell_type": "code",
   "execution_count": 11,
   "id": "0f75888a-cc68-456c-a5b9-93cdad744d2d",
   "metadata": {
    "tags": []
   },
   "outputs": [],
   "source": [
    "# Cast values to integer\n",
    "fleets = fleets.withColumn(\"Value\", fleets.Value.cast(\"int\"))"
   ]
  },
  {
   "cell_type": "code",
   "execution_count": 12,
   "id": "3a92523d-a7ce-4dee-8f39-b47fae46a0e9",
   "metadata": {
    "tags": []
   },
   "outputs": [],
   "source": [
    "# Create columns from fleet types and add subdictionaries for units of measurments, so that there is one row per\n",
    "# (country, year)\n",
    "fleets = fleets.groupBy(\"Country Code\", \\\n",
    "               \"Country\", \\\n",
    "               \"Year\") \\\n",
    ".pivot(\"Fleet\") \\\n",
    ".agg(collect_list(struct(\"Unit\", \"Value\"))) \\\n",
    ".orderBy(\"Country\", \"Year\")"
   ]
  },
  {
   "cell_type": "code",
   "execution_count": 13,
   "id": "f98c5055-3313-4aa4-8b36-ccec8b8c98b6",
   "metadata": {
    "tags": []
   },
   "outputs": [
    {
     "name": "stdout",
     "output_type": "stream",
     "text": [
      "root\n",
      " |-- Country Code: string (nullable = true)\n",
      " |-- Country: string (nullable = true)\n",
      " |-- Year: integer (nullable = true)\n",
      " |-- 0-5.9 m: array (nullable = false)\n",
      " |    |-- element: struct (containsNull = false)\n",
      " |    |    |-- Unit: string (nullable = true)\n",
      " |    |    |-- Value: integer (nullable = true)\n",
      " |-- 12-17.9 m: array (nullable = false)\n",
      " |    |-- element: struct (containsNull = false)\n",
      " |    |    |-- Unit: string (nullable = true)\n",
      " |    |    |-- Value: integer (nullable = true)\n",
      " |-- 18-23.9 m: array (nullable = false)\n",
      " |    |-- element: struct (containsNull = false)\n",
      " |    |    |-- Unit: string (nullable = true)\n",
      " |    |    |-- Value: integer (nullable = true)\n",
      " |-- 24-29.9 m: array (nullable = false)\n",
      " |    |-- element: struct (containsNull = false)\n",
      " |    |    |-- Unit: string (nullable = true)\n",
      " |    |    |-- Value: integer (nullable = true)\n",
      " |-- 30-35.9 m: array (nullable = false)\n",
      " |    |-- element: struct (containsNull = false)\n",
      " |    |    |-- Unit: string (nullable = true)\n",
      " |    |    |-- Value: integer (nullable = true)\n",
      " |-- 36-44.9 m: array (nullable = false)\n",
      " |    |-- element: struct (containsNull = false)\n",
      " |    |    |-- Unit: string (nullable = true)\n",
      " |    |    |-- Value: integer (nullable = true)\n",
      " |-- 45-59.9 m: array (nullable = false)\n",
      " |    |-- element: struct (containsNull = false)\n",
      " |    |    |-- Unit: string (nullable = true)\n",
      " |    |    |-- Value: integer (nullable = true)\n",
      " |-- 6-11.9 m: array (nullable = false)\n",
      " |    |-- element: struct (containsNull = false)\n",
      " |    |    |-- Unit: string (nullable = true)\n",
      " |    |    |-- Value: integer (nullable = true)\n",
      " |-- 60-74.9 m: array (nullable = false)\n",
      " |    |-- element: struct (containsNull = false)\n",
      " |    |    |-- Unit: string (nullable = true)\n",
      " |    |    |-- Value: integer (nullable = true)\n",
      " |-- 75 m and over: array (nullable = false)\n",
      " |    |-- element: struct (containsNull = false)\n",
      " |    |    |-- Unit: string (nullable = true)\n",
      " |    |    |-- Value: integer (nullable = true)\n",
      " |-- LOA unknown: array (nullable = false)\n",
      " |    |-- element: struct (containsNull = false)\n",
      " |    |    |-- Unit: string (nullable = true)\n",
      " |    |    |-- Value: integer (nullable = true)\n",
      " |-- Total Vessels: array (nullable = false)\n",
      " |    |-- element: struct (containsNull = false)\n",
      " |    |    |-- Unit: string (nullable = true)\n",
      " |    |    |-- Value: integer (nullable = true)\n",
      "\n"
     ]
    }
   ],
   "source": [
    "fleets.printSchema()"
   ]
  },
  {
   "cell_type": "code",
   "execution_count": 28,
   "id": "8c3816ac-f1f6-4930-94ab-6d2792441bb8",
   "metadata": {
    "tags": []
   },
   "outputs": [],
   "source": [
    "# Load the transformed data into MongoDB\n",
    "import json\n",
    "import pymongo\n",
    "from dotenv import dotenv_values\n",
    "\n",
    "from pyspark.sql.functions import to_json, from_json\n",
    "from pyspark.sql.types import StructType, StructField, IntegerType, StringType, ArrayType"
   ]
  },
  {
   "cell_type": "code",
   "execution_count": 15,
   "id": "a043c0fb-81e2-4847-92a3-4163617337f0",
   "metadata": {
    "tags": []
   },
   "outputs": [],
   "source": [
    "# Retrieve MongoDB creds\n",
    "config = dotenv_values(\"creds.env\")\n",
    "\n",
    "user = config['user']\n",
    "password = config['password']\n",
    "\n",
    "# Connect to MongoDB\n",
    "uri = \"mongodb+srv://\" + user + \":\" + password + \"@cluster0.6jfc5iw.mongodb.net/\"\n",
    "client = pymongo.MongoClient(uri)\n",
    "db = client[\"gfw\"]\n",
    "collection = db[\"vessels\"]"
   ]
  },
  {
   "cell_type": "code",
   "execution_count": 16,
   "id": "bf9126fc-4eab-4d39-a614-88e4ad241d4e",
   "metadata": {
    "tags": []
   },
   "outputs": [],
   "source": [
    "fleet_type_columns = list(fleet_types.select(\"Fleet\").toPandas()[\"Fleet\"])"
   ]
  },
  {
   "cell_type": "code",
   "execution_count": 59,
   "id": "e0d78578-f89b-4484-b833-ff40c060936a",
   "metadata": {
    "tags": []
   },
   "outputs": [],
   "source": [
    "# Sub-JSON schema\n",
    "# Define the schema for the sub-JSON\n",
    "schema = ArrayType(StructType([\n",
    "  StructField(\"Unit\", StringType(), True),\n",
    "  StructField(\"Value\", IntegerType(), True)\n",
    "]), False)\n",
    "\n",
    "vessels_dict = fleets\n",
    "\n",
    "for fleet_type in fleet_type_columns:\n",
    "    fleet = \"`{}`\".format(fleet_type)\n",
    "    vessels_dict = vessels_dict.withColumn(fleet_type, to_json(col(fleet)))\n",
    "    vessels_dict = vessels_dict.withColumn(fleet_type, from_json(col(fleet), schema))"
   ]
  },
  {
   "cell_type": "code",
   "execution_count": 60,
   "id": "9fb6a92b-64e7-4d8c-8bbc-c2fb67c3996d",
   "metadata": {
    "tags": []
   },
   "outputs": [],
   "source": [
    "vessels = vessels_dict.toPandas().to_dict(\"records\")"
   ]
  },
  {
   "cell_type": "code",
   "execution_count": 61,
   "id": "f36d4980-6fa7-4cb3-afa4-2d2839e22c0f",
   "metadata": {},
   "outputs": [
    {
     "data": {
      "text/plain": [
       "<pymongo.results.InsertManyResult at 0x1fe88335b40>"
      ]
     },
     "execution_count": 61,
     "metadata": {},
     "output_type": "execute_result"
    }
   ],
   "source": [
    "collection.insert_many(vessels)"
   ]
  },
  {
   "cell_type": "code",
   "execution_count": 62,
   "id": "6f12747b-131a-40d5-8bbf-ce7e89d8c162",
   "metadata": {},
   "outputs": [],
   "source": [
    "client.close()"
   ]
  }
 ],
 "metadata": {
  "kernelspec": {
   "display_name": "Python 3 (ipykernel)",
   "language": "python",
   "name": "python3"
  },
  "language_info": {
   "codemirror_mode": {
    "name": "ipython",
    "version": 3
   },
   "file_extension": ".py",
   "mimetype": "text/x-python",
   "name": "python",
   "nbconvert_exporter": "python",
   "pygments_lexer": "ipython3",
   "version": "3.8.16"
  }
 },
 "nbformat": 4,
 "nbformat_minor": 5
}
