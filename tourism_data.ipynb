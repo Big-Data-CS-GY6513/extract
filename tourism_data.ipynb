{
 "cells": [
  {
   "cell_type": "code",
   "execution_count": 1,
   "id": "f22c33ff-84cb-4f7b-8e06-d3b7825079db",
   "metadata": {
    "tags": []
   },
   "outputs": [],
   "source": [
    "import pandas as pd\n",
    "import pymongo\n",
    "\n",
    "\n",
    "arrivals_df  = pd.read_csv(\"tourist_arrival.csv\")\n",
    "receipts_df =pd.read_csv(\"tourist_receipts.csv\")\n",
    "gdp_df = pd.read_csv(\"GDP.csv\")"
   ]
  },
  {
   "cell_type": "code",
   "execution_count": 2,
   "id": "e6be4cca-0b0c-4c97-a362-8fd545f508a4",
   "metadata": {
    "tags": []
   },
   "outputs": [],
   "source": [
    "# Melting dataframes\n",
    "receipts_long = receipts_df.melt(id_vars=['Series Name', 'Series Code', 'Country Name', 'Country Code'],\n",
    "                                 var_name='Year',\n",
    "                                 value_name='Receipts')\n",
    "\n",
    "arrivals_long = arrivals_df.melt(id_vars=['Series Name', 'Series Code', 'Country Name', 'Country Code'],\n",
    "                                 var_name='Year',\n",
    "                                 value_name='Arrivals')\n",
    "\n",
    "gdp_long = gdp_df.melt(id_vars=['Series Name', 'Series Code', 'Country Name', 'Country Code'],\n",
    "                   var_name='Year', value_name='GDP')\n"
   ]
  },
  {
   "cell_type": "code",
   "execution_count": 3,
   "id": "a7c02d50-19dd-42a1-9d5d-4a36e7ff4d65",
   "metadata": {
    "tags": []
   },
   "outputs": [],
   "source": [
    "receipts_long = receipts_long.drop_duplicates(subset=['Country Name', 'Country Code', 'Year'])\n",
    "arrivals_long = arrivals_long.drop_duplicates(subset=['Country Name', 'Country Code', 'Year'])\n",
    "gdp_long = gdp_long.drop_duplicates(subset=['Country Name', 'Country Code', 'Year'])"
   ]
  },
  {
   "cell_type": "code",
   "execution_count": 4,
   "id": "899ecd19-e2d4-4a0b-ae29-b4484b275705",
   "metadata": {
    "tags": []
   },
   "outputs": [],
   "source": [
    "# Merging dataframes\n",
    "tourism_data = pd.merge(receipts_long, arrivals_long, on=['Country Name', 'Country Code', 'Year'])\n",
    "tourism_data = pd.merge(tourism_data, gdp_long, on=['Country Name', 'Country Code', 'Year'])\n"
   ]
  },
  {
   "cell_type": "code",
   "execution_count": 5,
   "id": "04563a1d-c996-49ea-9b1e-460e161565f0",
   "metadata": {
    "tags": []
   },
   "outputs": [
    {
     "data": {
      "text/plain": [
       "Series Name_x    object\n",
       "Series Code_x    object\n",
       "Country Name     object\n",
       "Country Code     object\n",
       "Year             object\n",
       "Receipts         object\n",
       "Series Name_y    object\n",
       "Series Code_y    object\n",
       "Arrivals         object\n",
       "Series Name      object\n",
       "Series Code      object\n",
       "GDP              object\n",
       "dtype: object"
      ]
     },
     "execution_count": 5,
     "metadata": {},
     "output_type": "execute_result"
    }
   ],
   "source": [
    "tourism_data.dtypes"
   ]
  },
  {
   "cell_type": "code",
   "execution_count": 6,
   "id": "e3e61dd8-58de-4623-88d3-4c54e005446d",
   "metadata": {
    "tags": []
   },
   "outputs": [],
   "source": [
    "tourism_data.to_csv('unclead_data.csv', index=False)"
   ]
  },
  {
   "cell_type": "code",
   "execution_count": 7,
   "id": "6ff1a29e-9106-4d2e-ac7b-a514d9974e99",
   "metadata": {
    "tags": []
   },
   "outputs": [
    {
     "data": {
      "text/html": [
       "<div>\n",
       "<style scoped>\n",
       "    .dataframe tbody tr th:only-of-type {\n",
       "        vertical-align: middle;\n",
       "    }\n",
       "\n",
       "    .dataframe tbody tr th {\n",
       "        vertical-align: top;\n",
       "    }\n",
       "\n",
       "    .dataframe thead th {\n",
       "        text-align: right;\n",
       "    }\n",
       "</style>\n",
       "<table border=\"1\" class=\"dataframe\">\n",
       "  <thead>\n",
       "    <tr style=\"text-align: right;\">\n",
       "      <th></th>\n",
       "      <th>Series Name_x</th>\n",
       "      <th>Series Code_x</th>\n",
       "      <th>Country Name</th>\n",
       "      <th>Country Code</th>\n",
       "      <th>Year</th>\n",
       "      <th>Receipts</th>\n",
       "      <th>Series Name_y</th>\n",
       "      <th>Series Code_y</th>\n",
       "      <th>Arrivals</th>\n",
       "      <th>Series Name</th>\n",
       "      <th>Series Code</th>\n",
       "      <th>GDP</th>\n",
       "    </tr>\n",
       "  </thead>\n",
       "  <tbody>\n",
       "    <tr>\n",
       "      <th>0</th>\n",
       "      <td>International tourism, receipts (current US$)</td>\n",
       "      <td>ST.INT.RCPT.CD</td>\n",
       "      <td>Afghanistan</td>\n",
       "      <td>AFG</td>\n",
       "      <td>1995 [YR1995]</td>\n",
       "      <td>..</td>\n",
       "      <td>International tourism, number of arrivals</td>\n",
       "      <td>ST.INT.ARVL</td>\n",
       "      <td>..</td>\n",
       "      <td>GDP growth (annual %)</td>\n",
       "      <td>NY.GDP.MKTP.KD.ZG</td>\n",
       "      <td>..</td>\n",
       "    </tr>\n",
       "    <tr>\n",
       "      <th>1</th>\n",
       "      <td>International tourism, receipts (current US$)</td>\n",
       "      <td>ST.INT.RCPT.CD</td>\n",
       "      <td>Albania</td>\n",
       "      <td>ALB</td>\n",
       "      <td>1995 [YR1995]</td>\n",
       "      <td>70000000</td>\n",
       "      <td>International tourism, number of arrivals</td>\n",
       "      <td>ST.INT.ARVL</td>\n",
       "      <td>304000</td>\n",
       "      <td>GDP growth (annual %)</td>\n",
       "      <td>NY.GDP.MKTP.KD.ZG</td>\n",
       "      <td>13.322333321684</td>\n",
       "    </tr>\n",
       "    <tr>\n",
       "      <th>2</th>\n",
       "      <td>International tourism, receipts (current US$)</td>\n",
       "      <td>ST.INT.RCPT.CD</td>\n",
       "      <td>Algeria</td>\n",
       "      <td>DZA</td>\n",
       "      <td>1995 [YR1995]</td>\n",
       "      <td>..</td>\n",
       "      <td>International tourism, number of arrivals</td>\n",
       "      <td>ST.INT.ARVL</td>\n",
       "      <td>520000</td>\n",
       "      <td>GDP growth (annual %)</td>\n",
       "      <td>NY.GDP.MKTP.KD.ZG</td>\n",
       "      <td>3.79999478984085</td>\n",
       "    </tr>\n",
       "    <tr>\n",
       "      <th>3</th>\n",
       "      <td>International tourism, receipts (current US$)</td>\n",
       "      <td>ST.INT.RCPT.CD</td>\n",
       "      <td>American Samoa</td>\n",
       "      <td>ASM</td>\n",
       "      <td>1995 [YR1995]</td>\n",
       "      <td>..</td>\n",
       "      <td>International tourism, number of arrivals</td>\n",
       "      <td>ST.INT.ARVL</td>\n",
       "      <td>34000</td>\n",
       "      <td>GDP growth (annual %)</td>\n",
       "      <td>NY.GDP.MKTP.KD.ZG</td>\n",
       "      <td>..</td>\n",
       "    </tr>\n",
       "    <tr>\n",
       "      <th>4</th>\n",
       "      <td>International tourism, receipts (current US$)</td>\n",
       "      <td>ST.INT.RCPT.CD</td>\n",
       "      <td>Andorra</td>\n",
       "      <td>AND</td>\n",
       "      <td>1995 [YR1995]</td>\n",
       "      <td>..</td>\n",
       "      <td>International tourism, number of arrivals</td>\n",
       "      <td>ST.INT.ARVL</td>\n",
       "      <td>..</td>\n",
       "      <td>GDP growth (annual %)</td>\n",
       "      <td>NY.GDP.MKTP.KD.ZG</td>\n",
       "      <td>2.75750161326249</td>\n",
       "    </tr>\n",
       "    <tr>\n",
       "      <th>5</th>\n",
       "      <td>International tourism, receipts (current US$)</td>\n",
       "      <td>ST.INT.RCPT.CD</td>\n",
       "      <td>Angola</td>\n",
       "      <td>AGO</td>\n",
       "      <td>1995 [YR1995]</td>\n",
       "      <td>27000000</td>\n",
       "      <td>International tourism, number of arrivals</td>\n",
       "      <td>ST.INT.ARVL</td>\n",
       "      <td>9000</td>\n",
       "      <td>GDP growth (annual %)</td>\n",
       "      <td>NY.GDP.MKTP.KD.ZG</td>\n",
       "      <td>15.0000000288634</td>\n",
       "    </tr>\n",
       "    <tr>\n",
       "      <th>6</th>\n",
       "      <td>International tourism, receipts (current US$)</td>\n",
       "      <td>ST.INT.RCPT.CD</td>\n",
       "      <td>Antigua and Barbuda</td>\n",
       "      <td>ATG</td>\n",
       "      <td>1995 [YR1995]</td>\n",
       "      <td>..</td>\n",
       "      <td>International tourism, number of arrivals</td>\n",
       "      <td>ST.INT.ARVL</td>\n",
       "      <td>447000</td>\n",
       "      <td>GDP growth (annual %)</td>\n",
       "      <td>NY.GDP.MKTP.KD.ZG</td>\n",
       "      <td>-4.35958738239265</td>\n",
       "    </tr>\n",
       "    <tr>\n",
       "      <th>7</th>\n",
       "      <td>International tourism, receipts (current US$)</td>\n",
       "      <td>ST.INT.RCPT.CD</td>\n",
       "      <td>Argentina</td>\n",
       "      <td>ARG</td>\n",
       "      <td>1995 [YR1995]</td>\n",
       "      <td>2550000000</td>\n",
       "      <td>International tourism, number of arrivals</td>\n",
       "      <td>ST.INT.ARVL</td>\n",
       "      <td>2289000</td>\n",
       "      <td>GDP growth (annual %)</td>\n",
       "      <td>NY.GDP.MKTP.KD.ZG</td>\n",
       "      <td>-2.84520961057079</td>\n",
       "    </tr>\n",
       "    <tr>\n",
       "      <th>8</th>\n",
       "      <td>International tourism, receipts (current US$)</td>\n",
       "      <td>ST.INT.RCPT.CD</td>\n",
       "      <td>Armenia</td>\n",
       "      <td>ARM</td>\n",
       "      <td>1995 [YR1995]</td>\n",
       "      <td>14000000</td>\n",
       "      <td>International tourism, number of arrivals</td>\n",
       "      <td>ST.INT.ARVL</td>\n",
       "      <td>12000</td>\n",
       "      <td>GDP growth (annual %)</td>\n",
       "      <td>NY.GDP.MKTP.KD.ZG</td>\n",
       "      <td>6.89999841973659</td>\n",
       "    </tr>\n",
       "    <tr>\n",
       "      <th>9</th>\n",
       "      <td>International tourism, receipts (current US$)</td>\n",
       "      <td>ST.INT.RCPT.CD</td>\n",
       "      <td>Aruba</td>\n",
       "      <td>ABW</td>\n",
       "      <td>1995 [YR1995]</td>\n",
       "      <td>554000000</td>\n",
       "      <td>International tourism, number of arrivals</td>\n",
       "      <td>ST.INT.ARVL</td>\n",
       "      <td>912000</td>\n",
       "      <td>GDP growth (annual %)</td>\n",
       "      <td>NY.GDP.MKTP.KD.ZG</td>\n",
       "      <td>2.54714368704694</td>\n",
       "    </tr>\n",
       "  </tbody>\n",
       "</table>\n",
       "</div>"
      ],
      "text/plain": [
       "                                   Series Name_x   Series Code_x  \\\n",
       "0  International tourism, receipts (current US$)  ST.INT.RCPT.CD   \n",
       "1  International tourism, receipts (current US$)  ST.INT.RCPT.CD   \n",
       "2  International tourism, receipts (current US$)  ST.INT.RCPT.CD   \n",
       "3  International tourism, receipts (current US$)  ST.INT.RCPT.CD   \n",
       "4  International tourism, receipts (current US$)  ST.INT.RCPT.CD   \n",
       "5  International tourism, receipts (current US$)  ST.INT.RCPT.CD   \n",
       "6  International tourism, receipts (current US$)  ST.INT.RCPT.CD   \n",
       "7  International tourism, receipts (current US$)  ST.INT.RCPT.CD   \n",
       "8  International tourism, receipts (current US$)  ST.INT.RCPT.CD   \n",
       "9  International tourism, receipts (current US$)  ST.INT.RCPT.CD   \n",
       "\n",
       "          Country Name Country Code           Year    Receipts  \\\n",
       "0          Afghanistan          AFG  1995 [YR1995]          ..   \n",
       "1              Albania          ALB  1995 [YR1995]    70000000   \n",
       "2              Algeria          DZA  1995 [YR1995]          ..   \n",
       "3       American Samoa          ASM  1995 [YR1995]          ..   \n",
       "4              Andorra          AND  1995 [YR1995]          ..   \n",
       "5               Angola          AGO  1995 [YR1995]    27000000   \n",
       "6  Antigua and Barbuda          ATG  1995 [YR1995]          ..   \n",
       "7            Argentina          ARG  1995 [YR1995]  2550000000   \n",
       "8              Armenia          ARM  1995 [YR1995]    14000000   \n",
       "9                Aruba          ABW  1995 [YR1995]   554000000   \n",
       "\n",
       "                               Series Name_y Series Code_y Arrivals  \\\n",
       "0  International tourism, number of arrivals   ST.INT.ARVL       ..   \n",
       "1  International tourism, number of arrivals   ST.INT.ARVL   304000   \n",
       "2  International tourism, number of arrivals   ST.INT.ARVL   520000   \n",
       "3  International tourism, number of arrivals   ST.INT.ARVL    34000   \n",
       "4  International tourism, number of arrivals   ST.INT.ARVL       ..   \n",
       "5  International tourism, number of arrivals   ST.INT.ARVL     9000   \n",
       "6  International tourism, number of arrivals   ST.INT.ARVL   447000   \n",
       "7  International tourism, number of arrivals   ST.INT.ARVL  2289000   \n",
       "8  International tourism, number of arrivals   ST.INT.ARVL    12000   \n",
       "9  International tourism, number of arrivals   ST.INT.ARVL   912000   \n",
       "\n",
       "             Series Name        Series Code                GDP  \n",
       "0  GDP growth (annual %)  NY.GDP.MKTP.KD.ZG                 ..  \n",
       "1  GDP growth (annual %)  NY.GDP.MKTP.KD.ZG    13.322333321684  \n",
       "2  GDP growth (annual %)  NY.GDP.MKTP.KD.ZG   3.79999478984085  \n",
       "3  GDP growth (annual %)  NY.GDP.MKTP.KD.ZG                 ..  \n",
       "4  GDP growth (annual %)  NY.GDP.MKTP.KD.ZG   2.75750161326249  \n",
       "5  GDP growth (annual %)  NY.GDP.MKTP.KD.ZG   15.0000000288634  \n",
       "6  GDP growth (annual %)  NY.GDP.MKTP.KD.ZG  -4.35958738239265  \n",
       "7  GDP growth (annual %)  NY.GDP.MKTP.KD.ZG  -2.84520961057079  \n",
       "8  GDP growth (annual %)  NY.GDP.MKTP.KD.ZG   6.89999841973659  \n",
       "9  GDP growth (annual %)  NY.GDP.MKTP.KD.ZG   2.54714368704694  "
      ]
     },
     "execution_count": 7,
     "metadata": {},
     "output_type": "execute_result"
    }
   ],
   "source": [
    "tourism_data.head(10)"
   ]
  },
  {
   "cell_type": "code",
   "execution_count": 8,
   "id": "f6c73466-3f39-474d-ba6d-b4756effdc81",
   "metadata": {
    "tags": []
   },
   "outputs": [],
   "source": [
    "tourism_data = tourism_data.drop(columns=['Series Name_x', 'Series Code_x', 'Series Name_y', 'Series Code_y'])\n",
    "tourism_data = tourism_data.drop(columns=['Series Name', 'Series Code'])\n"
   ]
  },
  {
   "cell_type": "code",
   "execution_count": 9,
   "id": "120c938b-9a55-4bfd-9168-3ea9fc19ac24",
   "metadata": {
    "tags": []
   },
   "outputs": [
    {
     "data": {
      "text/plain": [
       "Country Name    object\n",
       "Country Code    object\n",
       "Year            object\n",
       "Receipts        object\n",
       "Arrivals        object\n",
       "GDP             object\n",
       "dtype: object"
      ]
     },
     "execution_count": 9,
     "metadata": {},
     "output_type": "execute_result"
    }
   ],
   "source": [
    "tourism_data.dtypes"
   ]
  },
  {
   "cell_type": "code",
   "execution_count": 10,
   "id": "2e811cbf-fa4e-41fc-b026-d86a7a701f05",
   "metadata": {
    "tags": []
   },
   "outputs": [],
   "source": [
    "tourism_data.to_csv('merged_tourism_gdp_data.csv', index=False)"
   ]
  },
  {
   "cell_type": "code",
   "execution_count": 11,
   "id": "7cfdd236-e1d0-4174-9f15-115c335722ae",
   "metadata": {},
   "outputs": [],
   "source": [
    "from dotenv import dotenv_values\n",
    "# Replace this connection string with your own\n",
    "config = dotenv_values(\"creds.env\")\n",
    "\n",
    "user = config['user']\n",
    "password = config['password']\n",
    "\n",
    "# Connect to MongoDB\n",
    "uri = \"mongodb+srv://\" + user + \":\" + password + \"@cluster0.6jfc5iw.mongodb.net/\"\n",
    "client = pymongo.MongoClient(uri)\n"
   ]
  },
  {
   "cell_type": "code",
   "execution_count": 12,
   "id": "1d74c726-6d72-4572-a2e0-f9aec2254658",
   "metadata": {},
   "outputs": [],
   "source": [
    "# Access a specific database (replace 'myDatabase' with your desired database name)\n",
    "db = client['gfw']\n",
    "\n",
    "# Access a specific collection within the database (replace 'myCollection' with your desired collection name)\n",
    "collection = db['tourism']"
   ]
  },
  {
   "cell_type": "code",
   "execution_count": 13,
   "id": "0609aab9-65ff-4865-be25-80cd8a92341b",
   "metadata": {
    "tags": []
   },
   "outputs": [],
   "source": [
    "data_to_insert = tourism_data.to_dict('records')"
   ]
  },
  {
   "cell_type": "code",
   "execution_count": 14,
   "id": "321f22f5-6b69-4c76-b27a-32594bdb539e",
   "metadata": {},
   "outputs": [],
   "source": [
    "# Perform operations on the collection, e.g., insert a document\n",
    "result = collection.insert_many(data_to_insert)\n",
    "\n",
    "# Close the connection\n",
    "client.close()"
   ]
  },
  {
   "cell_type": "code",
   "execution_count": null,
   "id": "91f8b839-bb8f-41fd-810d-5f6a969a4cb7",
   "metadata": {},
   "outputs": [],
   "source": []
  }
 ],
 "metadata": {
  "kernelspec": {
   "display_name": "Python 3 (ipykernel)",
   "language": "python",
   "name": "python3"
  },
  "language_info": {
   "codemirror_mode": {
    "name": "ipython",
    "version": 3
   },
   "file_extension": ".py",
   "mimetype": "text/x-python",
   "name": "python",
   "nbconvert_exporter": "python",
   "pygments_lexer": "ipython3",
   "version": "3.8.16"
  }
 },
 "nbformat": 4,
 "nbformat_minor": 5
}
