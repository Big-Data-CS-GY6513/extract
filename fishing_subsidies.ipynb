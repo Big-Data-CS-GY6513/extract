{
 "cells": [
  {
   "cell_type": "code",
   "execution_count": 1,
   "id": "6a7ede32-69a3-4e99-ae92-f66317e6be3e",
   "metadata": {
    "tags": []
   },
   "outputs": [
    {
     "data": {
      "text/html": [
       "\n",
       "            <div>\n",
       "                <p><b>SparkSession - in-memory</b></p>\n",
       "                \n",
       "        <div>\n",
       "            <p><b>SparkContext</b></p>\n",
       "\n",
       "            <p><a href=\"http://host.docker.internal:4040\">Spark UI</a></p>\n",
       "\n",
       "            <dl>\n",
       "              <dt>Version</dt>\n",
       "                <dd><code>v3.4.0</code></dd>\n",
       "              <dt>Master</dt>\n",
       "                <dd><code>local</code></dd>\n",
       "              <dt>AppName</dt>\n",
       "                <dd><code>My app</code></dd>\n",
       "            </dl>\n",
       "        </div>\n",
       "        \n",
       "            </div>\n",
       "        "
      ],
      "text/plain": [
       "<pyspark.sql.session.SparkSession at 0x2231addcdf0>"
      ]
     },
     "execution_count": 1,
     "metadata": {},
     "output_type": "execute_result"
    }
   ],
   "source": [
    "import os\n",
    "import pyspark\n",
    "\n",
    "# Start Spark session\n",
    "conf = pyspark.SparkConf()\n",
    "conf.setMaster(\"local\").setAppName(\"My app\")\n",
    "\n",
    "sc = pyspark.SparkContext(conf=conf)\n",
    "spark = pyspark.sql.SparkSession(sc)\n",
    "spark"
   ]
  },
  {
   "cell_type": "code",
   "execution_count": 2,
   "id": "5f03feac-995c-4120-9d5c-0899fe145f3d",
   "metadata": {
    "tags": []
   },
   "outputs": [],
   "source": [
    "from pyspark.sql.functions import col, sum, round, when"
   ]
  },
  {
   "cell_type": "code",
   "execution_count": 3,
   "id": "9e8b4abc-89c8-4fd6-b5e3-282b988c1bf4",
   "metadata": {
    "tags": []
   },
   "outputs": [],
   "source": [
    "# Load fishing subsidies dataset\n",
    "subsidies = spark \\\n",
    "                .read \\\n",
    "                .option(\"inferSchema\", \"true\") \\\n",
    "                .option(\"header\", \"true\") \\\n",
    "                .csv(\"data/fishing_subsidies.csv\")"
   ]
  },
  {
   "cell_type": "code",
   "execution_count": 4,
   "id": "91a6db1b-667e-46bf-a561-5f2364147b6d",
   "metadata": {
    "tags": []
   },
   "outputs": [
    {
     "data": {
      "text/plain": [
       "[Row(COUNTRY0='AUS', Country1='Australia', VARIABLE2='IFINP', Variable3='I.A. Transfers based on input use', MEASURE4='USD', Measure5='US dollar', YEAR6=2014, Year7=2014, Unit Code='USD', Unit='US Dollar', PowerCode Code=0, PowerCode='Units', Reference Period Code=None, Reference Period=None, Value=1103477.1538706, Flag Codes=None, Flags=None),\n",
       " Row(COUNTRY0='AUS', Country1='Australia', VARIABLE2='IFINP', Variable3='I.A. Transfers based on input use', MEASURE4='USD', Measure5='US dollar', YEAR6=2015, Year7=2015, Unit Code='USD', Unit='US Dollar', PowerCode Code=0, PowerCode='Units', Reference Period Code=None, Reference Period=None, Value=2045669.3008909, Flag Codes=None, Flags=None),\n",
       " Row(COUNTRY0='AUS', Country1='Australia', VARIABLE2='IFINP', Variable3='I.A. Transfers based on input use', MEASURE4='USD', Measure5='US dollar', YEAR6=2016, Year7=2016, Unit Code='USD', Unit='US Dollar', PowerCode Code=0, PowerCode='Units', Reference Period Code=None, Reference Period=None, Value=1454653.7378275, Flag Codes=None, Flags=None),\n",
       " Row(COUNTRY0='AUS', Country1='Australia', VARIABLE2='IFINP', Variable3='I.A. Transfers based on input use', MEASURE4='USD', Measure5='US dollar', YEAR6=2017, Year7=2017, Unit Code='USD', Unit='US Dollar', PowerCode Code=0, PowerCode='Units', Reference Period Code=None, Reference Period=None, Value=2030833.0572411, Flag Codes=None, Flags=None),\n",
       " Row(COUNTRY0='AUS', Country1='Australia', VARIABLE2='IFINP', Variable3='I.A. Transfers based on input use', MEASURE4='USD', Measure5='US dollar', YEAR6=2018, Year7=2018, Unit Code='USD', Unit='US Dollar', PowerCode Code=0, PowerCode='Units', Reference Period Code=None, Reference Period=None, Value=5976.1480008757, Flag Codes=None, Flags=None)]"
      ]
     },
     "execution_count": 4,
     "metadata": {},
     "output_type": "execute_result"
    }
   ],
   "source": [
    "subsidies.head(5)"
   ]
  },
  {
   "cell_type": "code",
   "execution_count": 5,
   "id": "30528991-9beb-4558-91ed-c0c00bdf8f1d",
   "metadata": {
    "tags": []
   },
   "outputs": [
    {
     "name": "stdout",
     "output_type": "stream",
     "text": [
      "root\n",
      " |-- COUNTRY0: string (nullable = true)\n",
      " |-- Country1: string (nullable = true)\n",
      " |-- VARIABLE2: string (nullable = true)\n",
      " |-- Variable3: string (nullable = true)\n",
      " |-- MEASURE4: string (nullable = true)\n",
      " |-- Measure5: string (nullable = true)\n",
      " |-- YEAR6: integer (nullable = true)\n",
      " |-- Year7: integer (nullable = true)\n",
      " |-- Unit Code: string (nullable = true)\n",
      " |-- Unit: string (nullable = true)\n",
      " |-- PowerCode Code: integer (nullable = true)\n",
      " |-- PowerCode: string (nullable = true)\n",
      " |-- Reference Period Code: string (nullable = true)\n",
      " |-- Reference Period: string (nullable = true)\n",
      " |-- Value: double (nullable = true)\n",
      " |-- Flag Codes: string (nullable = true)\n",
      " |-- Flags: string (nullable = true)\n",
      "\n"
     ]
    }
   ],
   "source": [
    "subsidies.printSchema()"
   ]
  },
  {
   "cell_type": "code",
   "execution_count": 6,
   "id": "00ea0322-a522-4750-8da7-fb16136f072a",
   "metadata": {
    "tags": []
   },
   "outputs": [],
   "source": [
    "# Drop unnecessary columns\n",
    "subsidies = subsidies.drop(\"Reference Period Code\", \\\n",
    "                           \"Reference Period\", \\\n",
    "                           \"Flag Codes\", \\\n",
    "                           \"Flags\", \\\n",
    "                           \"PowerCode Code\", \\\n",
    "                           \"PowerCode\", \\\n",
    "                           \"YEAR6\", \\\n",
    "                           \"MEASURE4\", \\\n",
    "                           \"Measure5\")"
   ]
  },
  {
   "cell_type": "code",
   "execution_count": 7,
   "id": "c21e10d4-36ed-4597-b3cf-884a25b48639",
   "metadata": {
    "tags": []
   },
   "outputs": [],
   "source": [
    "# Rename columns\n",
    "subsidies = subsidies.withColumnRenamed(\"COUNTRY0\", \"Country Code\") \\\n",
    "                .withColumnRenamed(\"Country1\", \"Country\") \\\n",
    "                .withColumnRenamed(\"VARIABLE2\", \"Variable Code\") \\\n",
    "                .withColumnRenamed(\"Variable3\", \"Variable\") \\\n",
    "                .withColumnRenamed(\"Year7\", \"Year\")"
   ]
  },
  {
   "cell_type": "code",
   "execution_count": 8,
   "id": "e21e626f-3ace-4f69-865a-08f206b89877",
   "metadata": {
    "tags": []
   },
   "outputs": [
    {
     "name": "stdout",
     "output_type": "stream",
     "text": [
      "root\n",
      " |-- Country Code: string (nullable = true)\n",
      " |-- Country: string (nullable = true)\n",
      " |-- Variable Code: string (nullable = true)\n",
      " |-- Variable: string (nullable = true)\n",
      " |-- Year: integer (nullable = true)\n",
      " |-- Unit Code: string (nullable = true)\n",
      " |-- Unit: string (nullable = true)\n",
      " |-- Value: double (nullable = true)\n",
      "\n"
     ]
    }
   ],
   "source": [
    "# Check schema\n",
    "subsidies.printSchema()"
   ]
  },
  {
   "cell_type": "code",
   "execution_count": 9,
   "id": "0cba1d9c-34b7-4e60-9085-ec50e315eb7c",
   "metadata": {
    "tags": []
   },
   "outputs": [
    {
     "name": "stdout",
     "output_type": "stream",
     "text": [
      "+-------------+--------------------------------------------------------------------------------------+\n",
      "|Variable Code|Variable                                                                              |\n",
      "+-------------+--------------------------------------------------------------------------------------+\n",
      "|IFINP        |I.A. Transfers based on input use                                                     |\n",
      "|IFINP_VAR    |I.A.1. Transfers based on variable input use                                          |\n",
      "|IFINP_FIX    |I.A.2. Transfers based on fixed capital formation                                     |\n",
      "|IFINP_FIX_V  |I.A.2.1.Support to vessel construction/purchase                                       |\n",
      "|IFINP_FIX_M  |I.A.2.2.Support to modernisation                                                      |\n",
      "|IFINP_FIX_O  |I.A.2.3.Support to other fixed costs                                                  |\n",
      "|IFINC        |I.B. Transfers based on fishers income                                                |\n",
      "|IFINC_INS    |I.B.1. Income support                                                                 |\n",
      "|IFINC_SIF    |I.B.2. Special insurance system for fishers                                           |\n",
      "|IFRPC        |I.C. Transfers based on the reduction of productive capacity                          |\n",
      "|IFMSC        |I.D. Miscellaneous direct support to individuals and companies                        |\n",
      "|TIFN         |I.E. Tax exemptions                                                                   |\n",
      "|FTC          |I.E.1. Fuel tax concessions                                                           |\n",
      "|MPS          |I.E.2. Other tax exemptions                                                           |\n",
      "|GSACC        |II.A. Access to other countries’ waters                                               |\n",
      "|GSINF        |II.B. Provision of infrastructure                                                     |\n",
      "|GSINF_CAP    |II.B.1. Capital expenditures                                                          |\n",
      "|GSINF_ACC    |II.B.2. Subsidized access to infrastructure                                           |\n",
      "|GSMKG        |II.C. Marketing and promotion                                                         |\n",
      "|GSCOM        |II.D. Support to fishing communities                                                  |\n",
      "|GSEDU        |II.E. Education and training                                                          |\n",
      "|GSRND        |II.F. Research and development                                                        |\n",
      "|GSMNG        |II.G. Management of resources                                                         |\n",
      "|GSMNG_EXP    |II.G.1. Management expenditures                                                       |\n",
      "|GSMNG_STK    |II.G.2. Stock enhancement programs                                                    |\n",
      "|GSMNG_ENF    |II.G.3. Enforcement expenditures                                                      |\n",
      "|GSMSC        |II.H. Miscellaneous support for services to the sector                                |\n",
      "|FCRRE        |III.A. Payments made by the fisheries sector, for resource access rights              |\n",
      "|FCRIN        |III.B. Payments made by the fisheries sector, for infrastructure access               |\n",
      "|FCRMG        |III.C. Payments made by the fisheries sector, for management, research and enforcement|\n",
      "|FCROT        |III.E. Payments made by the fisheries sector, Other                                   |\n",
      "+-------------+--------------------------------------------------------------------------------------+\n",
      "\n"
     ]
    }
   ],
   "source": [
    "# Retrieve different variables and its corresponding codes\n",
    "variables = subsidies.select(\"Variable Code\", \"Variable\").distinct().sort(\"Variable\")\n",
    "variables.show(n=50, truncate=False)"
   ]
  },
  {
   "cell_type": "code",
   "execution_count": 10,
   "id": "6fd099fd-4360-4814-bf10-47f6eb725bc9",
   "metadata": {
    "tags": []
   },
   "outputs": [],
   "source": [
    "# Get list of all variable codes\n",
    "var_codes = list(subsidies.select(\"Variable Code\").distinct().toPandas()[\"Variable Code\"])"
   ]
  },
  {
   "cell_type": "code",
   "execution_count": 11,
   "id": "09574475-908a-46be-a273-cfd5c8aac3c9",
   "metadata": {
    "tags": []
   },
   "outputs": [],
   "source": [
    "# Divide up variable codes by which ones correspond to government support and which ones to industry payments to the government\n",
    "payments = ['FCRRE', 'FCRIN', 'FCRMG', 'FCROT']\n",
    "support = [code for code in var_codes if code not in payments]"
   ]
  },
  {
   "cell_type": "code",
   "execution_count": 12,
   "id": "30b16012-c8d5-4e29-a472-c59b9f1a3434",
   "metadata": {},
   "outputs": [],
   "source": [
    "# Aggregate sum of government support per country/year\n",
    "subsidies_support = subsidies.filter(col(\"Variable Code\").isin(support)).groupBy(\"Country Code\", \"Country\", \"Year\", \"Unit Code\").agg(round(sum(\"Value\"), 2).alias(\"Total Support\"))"
   ]
  },
  {
   "cell_type": "code",
   "execution_count": 13,
   "id": "66a07780-811a-4acd-b879-cf5bfc257d54",
   "metadata": {
    "tags": []
   },
   "outputs": [],
   "source": [
    "# Aggregate sum of industry payments per country/year\n",
    "subsidies_payments = subsidies.filter(col(\"Variable Code\").isin(payments)).groupBy(\"Country Code\", \"Country\", \"Year\", \"Unit Code\").agg(round(sum(\"Value\"), 2).alias(\"Total Payments\"))"
   ]
  },
  {
   "cell_type": "code",
   "execution_count": 14,
   "id": "510fd44b-7d51-41b9-8ca4-87a7423de3ce",
   "metadata": {
    "tags": []
   },
   "outputs": [],
   "source": [
    "# Combine stats into one dataframe\n",
    "subsidies_stats = subsidies_support.alias(\"df1\").join( \\\n",
    "                                                      subsidies_payments.alias(\"df2\"), \\\n",
    "                                                      (col(\"df1.Country Code\") == col(\"df2.Country Code\")) & \\\n",
    "                                                      (col(\"df1.Country\") == col(\"df2.Country\")) & \\\n",
    "                                                      (col(\"df1.Year\") == col(\"df2.Year\")) & \\\n",
    "                                                      (col(\"df1.Unit Code\") == col(\"df2.Unit Code\")) \\\n",
    "                                                     ).select( \\\n",
    "                                                              col(\"df1.Country Code\").alias(\"Country Code\"), \\\n",
    "                                                              col(\"df1.Country\").alias(\"Country\"), \\\n",
    "                                                              col(\"df1.Year\").alias(\"Year\"), \\\n",
    "                                                              col(\"df1.Unit Code\").alias(\"Unit Code\"), \\\n",
    "                                                              col(\"df1.Total Support\").alias(\"Total Support\"), \\\n",
    "                                                              col(\"df2.Total Payments\").alias(\"Total Payments\") \\\n",
    "                                                             ).orderBy(\"Country Code\", \"Year\")"
   ]
  },
  {
   "cell_type": "code",
   "execution_count": 15,
   "id": "5c6687d9-aefc-4ba0-bd9d-6f39f2994e73",
   "metadata": {
    "tags": []
   },
   "outputs": [],
   "source": [
    "# Load the transformed data into MongoDB\n",
    "import json\n",
    "import pymongo\n",
    "from dotenv import dotenv_values"
   ]
  },
  {
   "cell_type": "code",
   "execution_count": 16,
   "id": "41537fa7-27f3-4272-9a0b-be8d2e477fa2",
   "metadata": {
    "tags": []
   },
   "outputs": [],
   "source": [
    "# Retrieve MongoDB creds\n",
    "config = dotenv_values(\"creds.env\")\n",
    "\n",
    "user = config['user']\n",
    "password = config['password']\n",
    "\n",
    "# Connect to MongoDB\n",
    "uri = \"mongodb+srv://\" + user + \":\" + password + \"@cluster0.6jfc5iw.mongodb.net/\"\n",
    "client = pymongo.MongoClient(uri)\n",
    "db = client[\"gfw\"]\n",
    "collection = db[\"subsidies\"]"
   ]
  },
  {
   "cell_type": "code",
   "execution_count": 29,
   "id": "a13ae7bd-7cca-4e68-a134-46b4f4ea2ede",
   "metadata": {
    "tags": []
   },
   "outputs": [],
   "source": [
    "subsidies_dict = subsidies_stats.toPandas().to_dict(\"records\")"
   ]
  },
  {
   "cell_type": "code",
   "execution_count": 31,
   "id": "dc32d804-b6d8-4845-9421-d4246137de5b",
   "metadata": {
    "tags": []
   },
   "outputs": [
    {
     "data": {
      "text/plain": [
       "<pymongo.results.InsertManyResult at 0x2231e4e3b00>"
      ]
     },
     "execution_count": 31,
     "metadata": {},
     "output_type": "execute_result"
    }
   ],
   "source": [
    "collection.insert_many(subsidies_dict)"
   ]
  },
  {
   "cell_type": "code",
   "execution_count": 32,
   "id": "435f8e92-c274-484d-9df9-530c881116e7",
   "metadata": {
    "tags": []
   },
   "outputs": [],
   "source": [
    "client.close()"
   ]
  }
 ],
 "metadata": {
  "kernelspec": {
   "display_name": "Python 3 (ipykernel)",
   "language": "python",
   "name": "python3"
  },
  "language_info": {
   "codemirror_mode": {
    "name": "ipython",
    "version": 3
   },
   "file_extension": ".py",
   "mimetype": "text/x-python",
   "name": "python",
   "nbconvert_exporter": "python",
   "pygments_lexer": "ipython3",
   "version": "3.8.16"
  }
 },
 "nbformat": 4,
 "nbformat_minor": 5
}
