{
 "cells": [
  {
   "cell_type": "code",
   "execution_count": 1,
   "id": "deeb4c99-509a-4ee9-ac9c-18c617833ce9",
   "metadata": {
    "tags": []
   },
   "outputs": [
    {
     "data": {
      "text/html": [
       "\n",
       "            <div>\n",
       "                <p><b>SparkSession - in-memory</b></p>\n",
       "                \n",
       "        <div>\n",
       "            <p><b>SparkContext</b></p>\n",
       "\n",
       "            <p><a href=\"http://DESKTOP-2UP3U4Q:4041\">Spark UI</a></p>\n",
       "\n",
       "            <dl>\n",
       "              <dt>Version</dt>\n",
       "                <dd><code>v3.4.0</code></dd>\n",
       "              <dt>Master</dt>\n",
       "                <dd><code>local</code></dd>\n",
       "              <dt>AppName</dt>\n",
       "                <dd><code>My app</code></dd>\n",
       "            </dl>\n",
       "        </div>\n",
       "        \n",
       "            </div>\n",
       "        "
      ],
      "text/plain": [
       "<pyspark.sql.session.SparkSession at 0x1cd797ff730>"
      ]
     },
     "execution_count": 1,
     "metadata": {},
     "output_type": "execute_result"
    }
   ],
   "source": [
    "import os\n",
    "import pyspark\n",
    "\n",
    "# Start Spark session\n",
    "conf = pyspark.SparkConf()\n",
    "conf.setMaster(\"local\").setAppName(\"My app\")\n",
    "\n",
    "sc = pyspark.SparkContext(conf=conf)\n",
    "spark = pyspark.sql.SparkSession(sc)\n",
    "spark"
   ]
  },
  {
   "cell_type": "code",
   "execution_count": 2,
   "id": "b7136dd2-1562-4e29-9037-53df82a0f77f",
   "metadata": {
    "tags": []
   },
   "outputs": [],
   "source": [
    "from pyspark.sql.functions import col, struct, collect_list, udf, first"
   ]
  },
  {
   "cell_type": "code",
   "execution_count": 3,
   "id": "c52b8da0-7a88-430a-bf44-e1cf5d289d52",
   "metadata": {
    "tags": []
   },
   "outputs": [],
   "source": [
    "metrics = spark \\\n",
    "                .read \\\n",
    "                .option(\"inferSchema\", \"true\") \\\n",
    "                .option(\"header\", \"true\") \\\n",
    "                .csv(\"data/RAML_tsmetrics.csv\")\n",
    "\n",
    "ts = spark \\\n",
    "                .read.format(\"csv\") \\\n",
    "                .option(\"inferSchema\", \"true\") \\\n",
    "                .option(\"header\", \"true\") \\\n",
    "                .load([\"data/RAML_timeseries1.csv\", \"data/RAML_timeseries2.csv\"])\n",
    "\n",
    "stocks = spark \\\n",
    "                .read \\\n",
    "                .option(\"inferSchema\", \"true\") \\\n",
    "                .option(\"header\", \"true\") \\\n",
    "                .csv(\"data/RAML_stock.csv\")"
   ]
  },
  {
   "cell_type": "code",
   "execution_count": 4,
   "id": "e74499f5-b5d1-40c5-a607-e0a85f898f1d",
   "metadata": {
    "tags": []
   },
   "outputs": [],
   "source": [
    "# Join all dataframes together and only keep relevant columns\n",
    "df = stocks \\\n",
    "    .join(ts, stocks[\"stockid\"] == ts[\"stockid\"], 'inner') \\\n",
    "    .select(stocks[\"stockid\"].alias(\"Stock ID\"), \\\n",
    "            stocks[\"commonname\"].alias(\"Common Name\"), \\\n",
    "            stocks[\"primary_country\"].alias(\"Country\"), \\\n",
    "            stocks[\"ISO3_code\"].alias(\"Country Code\"), \\\n",
    "            ts[\"tsyear\"].alias(\"Year\"), \\\n",
    "            ts[\"tsid\"].alias(\"Measure ID\"), \\\n",
    "            ts[\"tsvalue\"].alias(\"Value\")) \\\n",
    "    .where(col(\"Value\").isNotNull())\n",
    "\n",
    "df = df \\\n",
    "    .join(metrics, metrics[\"tsunique\"] == df[\"Measure ID\"], 'inner') \\\n",
    "    .select(df[\"Stock ID\"], \\\n",
    "            df[\"Common Name\"], \\\n",
    "            df[\"Country\"], \\\n",
    "            df[\"Country Code\"], \\\n",
    "            df[\"Year\"], \\\n",
    "            df[\"Measure ID\"], \\\n",
    "            metrics[\"tslong\"].alias(\"Measure description\"), \\\n",
    "            metrics[\"tsunitslong\"].alias(\"Unit\"), \\\n",
    "            df[\"Value\"])"
   ]
  },
  {
   "cell_type": "code",
   "execution_count": 5,
   "id": "694c9421-774a-421d-a141-3c001c127247",
   "metadata": {
    "tags": []
   },
   "outputs": [
    {
     "name": "stdout",
     "output_type": "stream",
     "text": [
      "root\n",
      " |-- Stock ID: string (nullable = true)\n",
      " |-- Common Name: string (nullable = true)\n",
      " |-- Country: string (nullable = true)\n",
      " |-- Country Code: string (nullable = true)\n",
      " |-- Year: integer (nullable = true)\n",
      " |-- Measure ID: string (nullable = true)\n",
      " |-- Measure description: string (nullable = true)\n",
      " |-- Unit: string (nullable = true)\n",
      " |-- Value: double (nullable = true)\n",
      "\n"
     ]
    }
   ],
   "source": [
    "df.printSchema()"
   ]
  },
  {
   "cell_type": "code",
   "execution_count": 6,
   "id": "9af6c2d1-6c97-40fe-9678-ffcaf77355aa",
   "metadata": {
    "tags": []
   },
   "outputs": [],
   "source": [
    "# Create nested tables for Years and Measures\n",
    "df = df.groupBy(\"Stock ID\", \"Common Name\", \"Country\", \"Country Code\", \"Year\") \\\n",
    "           .agg(collect_list(struct(\"Measure ID\", \"Measure description\", \"Unit\", \"Value\")).alias(\"Measures\"))\n",
    "         \n",
    "\n",
    "df = df.groupBy(\"Stock ID\", \"Common Name\", \"Country\", \"Country Code\") \\\n",
    "    .agg(first(struct(\"Year\", \"Measures\")).alias(\"Years\"))"
   ]
  },
  {
   "cell_type": "code",
   "execution_count": 7,
   "id": "3661fec4-3a8c-4aec-82a4-305b2db29ba2",
   "metadata": {
    "tags": []
   },
   "outputs": [
    {
     "name": "stdout",
     "output_type": "stream",
     "text": [
      "root\n",
      " |-- Stock ID: string (nullable = true)\n",
      " |-- Common Name: string (nullable = true)\n",
      " |-- Country: string (nullable = true)\n",
      " |-- Country Code: string (nullable = true)\n",
      " |-- Years: struct (nullable = true)\n",
      " |    |-- Year: integer (nullable = true)\n",
      " |    |-- Measures: array (nullable = false)\n",
      " |    |    |-- element: struct (containsNull = false)\n",
      " |    |    |    |-- Measure ID: string (nullable = true)\n",
      " |    |    |    |-- Measure description: string (nullable = true)\n",
      " |    |    |    |-- Unit: string (nullable = true)\n",
      " |    |    |    |-- Value: double (nullable = true)\n",
      "\n"
     ]
    }
   ],
   "source": [
    "df.printSchema()"
   ]
  },
  {
   "cell_type": "code",
   "execution_count": 43,
   "id": "22ca4453-f5c0-4562-8649-bb786dad2c96",
   "metadata": {
    "tags": []
   },
   "outputs": [],
   "source": [
    "# Load the transformed data into MongoDB\n",
    "import json\n",
    "import pymongo\n",
    "from dotenv import dotenv_values\n",
    "\n",
    "from pyspark.sql.functions import to_json, from_json\n",
    "from pyspark.sql.types import StructType, StructField, IntegerType, StringType, ArrayType"
   ]
  },
  {
   "cell_type": "code",
   "execution_count": 44,
   "id": "e1cac103-9808-45c0-9ebd-3ce3bcc2ca6d",
   "metadata": {
    "tags": []
   },
   "outputs": [],
   "source": [
    "# Retrieve MongoDB creds\n",
    "config = dotenv_values(\"creds.env\")\n",
    "\n",
    "user = config['user']\n",
    "password = config['password']\n",
    "\n",
    "# Connect to MongoDB\n",
    "uri = \"mongodb+srv://\" + user + \":\" + password + \"@cluster0.6jfc5iw.mongodb.net/\"\n",
    "client = pymongo.MongoClient(uri)\n",
    "db = client[\"gfw\"]\n",
    "collection = db[\"stocks\"]"
   ]
  },
  {
   "cell_type": "code",
   "execution_count": 46,
   "id": "fb452441-8a31-4873-941d-a7ce80ddcebc",
   "metadata": {
    "tags": []
   },
   "outputs": [],
   "source": [
    "stocks_dict = df.toPandas().to_dict(\"records\")"
   ]
  },
  {
   "cell_type": "code",
   "execution_count": 48,
   "id": "1ae596d1-98e4-47ff-a2c3-0a102a536e02",
   "metadata": {
    "tags": []
   },
   "outputs": [
    {
     "data": {
      "text/plain": [
       "<pymongo.results.InsertManyResult at 0x17656be7fc0>"
      ]
     },
     "execution_count": 48,
     "metadata": {},
     "output_type": "execute_result"
    }
   ],
   "source": [
    "collection.insert_many(stocks_dict)"
   ]
  },
  {
   "cell_type": "code",
   "execution_count": 49,
   "id": "a1848ca6-ad8f-405a-9ea7-8427196af4ad",
   "metadata": {
    "tags": []
   },
   "outputs": [],
   "source": [
    "client.close()"
   ]
  }
 ],
 "metadata": {
  "kernelspec": {
   "display_name": "Python 3 (ipykernel)",
   "language": "python",
   "name": "python3"
  },
  "language_info": {
   "codemirror_mode": {
    "name": "ipython",
    "version": 3
   },
   "file_extension": ".py",
   "mimetype": "text/x-python",
   "name": "python",
   "nbconvert_exporter": "python",
   "pygments_lexer": "ipython3",
   "version": "3.8.16"
  }
 },
 "nbformat": 4,
 "nbformat_minor": 5
}
