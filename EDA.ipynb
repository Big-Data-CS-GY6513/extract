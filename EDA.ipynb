{
 "cells": [
  {
   "cell_type": "code",
   "execution_count": 1,
   "id": "ec91843e-423b-4809-b16a-293994734d06",
   "metadata": {
    "tags": []
   },
   "outputs": [],
   "source": [
    "import findspark\n",
    "findspark.add_packages(\"org.mongodb.spark:mongo-spark-connector_2.12:2.4.2\")"
   ]
  },
  {
   "cell_type": "code",
   "execution_count": 2,
   "id": "3d2be95e-5651-4804-8a47-50e1c72d97c7",
   "metadata": {
    "tags": []
   },
   "outputs": [
    {
     "data": {
      "text/html": [
       "\n",
       "            <div>\n",
       "                <p><b>SparkSession - in-memory</b></p>\n",
       "                \n",
       "        <div>\n",
       "            <p><b>SparkContext</b></p>\n",
       "\n",
       "            <p><a href=\"http://DESKTOP-2UP3U4Q:4041\">Spark UI</a></p>\n",
       "\n",
       "            <dl>\n",
       "              <dt>Version</dt>\n",
       "                <dd><code>v3.4.0</code></dd>\n",
       "              <dt>Master</dt>\n",
       "                <dd><code>local</code></dd>\n",
       "              <dt>AppName</dt>\n",
       "                <dd><code>My app</code></dd>\n",
       "            </dl>\n",
       "        </div>\n",
       "        \n",
       "            </div>\n",
       "        "
      ],
      "text/plain": [
       "<pyspark.sql.session.SparkSession at 0x23c3b2abeb0>"
      ]
     },
     "execution_count": 2,
     "metadata": {},
     "output_type": "execute_result"
    }
   ],
   "source": [
    "import os\n",
    "import pyspark\n",
    "from dotenv import dotenv_values\n",
    "\n",
    "# Retrieve MongoDB creds\n",
    "config = dotenv_values(\"creds.env\")\n",
    "\n",
    "user = config['user']\n",
    "password = config['password']\n",
    "\n",
    "db = \"gfw\"\n",
    "\n",
    "# Connect to MongoDB\n",
    "uri = \"mongodb+srv://\" + user + \":\" + password + \"@cluster0.6jfc5iw.mongodb.net/\"\n",
    "\n",
    "# Start Spark session\n",
    "conf = pyspark.SparkConf() \\\n",
    ".set(\"spark.jars.packages\", \"org.mongodb.spark:mongo-spark-connector_2.12:2.4.2\") \\\n",
    ".setMaster(\"local\") \\\n",
    ".setAppName(\"My app\") \\\n",
    ".setAll([(\"spark.driver.memory\", \"5g\"), (\"spark.executor.memory\", \"6g\")])\n",
    "\n",
    "sc = pyspark.SparkContext(conf=conf)\n",
    "\n",
    "spark = pyspark.sql.SparkSession(sc)\n",
    "spark"
   ]
  },
  {
   "cell_type": "code",
   "execution_count": 5,
   "id": "84d59ebd-0899-4052-bf4f-2efecdfec7d7",
   "metadata": {
    "tags": []
   },
   "outputs": [],
   "source": [
    "pipeline = [\n",
    "    { \"$match\": { \"Country\": \"Japan\" } }\n",
    "]\n",
    "\n",
    "df = spark.read.format(\"com.mongodb.spark.sql.DefaultSource\") \\\n",
    "    .option('uri', uri) \\\n",
    "    .option('database', db) \\\n",
    "    .option('collection', 'stocks') \\\n",
    "    .option('pipeline', pipeline) \\\n",
    "    .option('allowDiskUse', 'true') \\\n",
    "    .load()"
   ]
  },
  {
   "cell_type": "code",
   "execution_count": 6,
   "id": "011ad01b-8fea-45c9-9cce-5c3ed789aeef",
   "metadata": {
    "tags": []
   },
   "outputs": [
    {
     "name": "stdout",
     "output_type": "stream",
     "text": [
      "+-------------------+-------+------------+--------------+--------------------+--------------------+\n",
      "|        Common Name|Country|Country Code|      Stock ID|               Years|                 _id|\n",
      "+-------------------+-------+------------+--------------+--------------------+--------------------+\n",
      "|      Albacore tuna|  Japan|         JPN|      ALBANPAC|[[1936, [[\"CdivME...|{645af30337658cfe...|\n",
      "|    Walleye pollock|  Japan|         JPN|     APOLLNEMS|[[1981, [[\"CdivME...|{645af30337658cfe...|\n",
      "|    Walleye pollock|  Japan|         JPN|      APOLLNSJ|[[1970, [[\"CdivME...|{645af30337658cfe...|\n",
      "|    Walleye pollock|  Japan|         JPN|      APOLLOKS|[[1980, [[\"CdivME...|{645af30337658cfe...|\n",
      "|    Walleye pollock|  Japan|         JPN|     APOLLPJPN|[[1975, [[\"CdivME...|{645af30337658cfe...|\n",
      "|Alaskan pink shrimp|  Japan|         JPN|   APSHRIMPSOJ|[[1985, [[\"CdivME...|{645af30337658cfe...|\n",
      "|Arabesque greenling|  Japan|         JPN|   ARGREENNEMS|[[1985, [[\"CdivME...|{645af30337658cfe...|\n",
      "|Arabesque greenling|  Japan|         JPN|  ARGREENNHOKK|[[1980, [[\"CdivME...|{645af30337658cfe...|\n",
      "|Arabesque greenling|  Japan|         JPN|  ARGREENSHOKK|[[1975, [[\"CdivME...|{645af30337658cfe...|\n",
      "|   Amberstripe scad|  Japan|         JPN|      ASCADECS|[[1973, [[\"CdivME...|{645af30337658cfe...|\n",
      "|        Bigeye tuna|  Japan|         JPN|     BIGEYEATL|[[1950, [[\"BdivBm...|{645af30337658cfe...|\n",
      "|        Bigeye tuna|  Japan|         JPN|   BIGEYECWPAC|[[1950, [[\"CdivME...|{645af30337658cfe...|\n",
      "|        Bigeye tuna|  Japan|         JPN|    BIGEYEEPAC|[[1954, [[\"CdivME...|{645af30337658cfe...|\n",
      "|         Blue shark|  Japan|         JPN|    BLSHARNPAC|[[1970, [[\"F-1/yr...|{645af30337658cfe...|\n",
      "|   Spotted mackerel|  Japan|         JPN|      BMACKECS|[[1973, [[\"CdivME...|{645af30337658cfe...|\n",
      "|   Spotted mackerel|  Japan|         JPN|     BMACKPJPN|[[1982, [[\"CdivME...|{645af30337658cfe...|\n",
      "|        Blue marlin|  Japan|         JPN|    BMARLINATL|[[1956, [[\"BdivBm...|{645af30337658cfe...|\n",
      "|        Blue marlin|  Japan|         JPN|    BMARLINPAC|[[1952, [[\"CdivME...|{645af30337658cfe...|\n",
      "|   Yellow sea bream|  Japan|         JPN|        BRMSOJ|[[1980, [[\"CdivME...|{645af30337658cfe...|\n",
      "|      Black scraper|  Japan|         JPN|BSCRAPERSOJECS|[[2000, [[\"CdivME...|{645af30337658cfe...|\n",
      "+-------------------+-------+------------+--------------+--------------------+--------------------+\n",
      "only showing top 20 rows\n",
      "\n"
     ]
    }
   ],
   "source": [
    "df.show()"
   ]
  }
 ],
 "metadata": {
  "kernelspec": {
   "display_name": "Python 3 (ipykernel)",
   "language": "python",
   "name": "python3"
  },
  "language_info": {
   "codemirror_mode": {
    "name": "ipython",
    "version": 3
   },
   "file_extension": ".py",
   "mimetype": "text/x-python",
   "name": "python",
   "nbconvert_exporter": "python",
   "pygments_lexer": "ipython3",
   "version": "3.8.16"
  }
 },
 "nbformat": 4,
 "nbformat_minor": 5
}
